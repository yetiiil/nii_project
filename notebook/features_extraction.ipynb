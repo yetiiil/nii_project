{
 "cells": [
  {
   "cell_type": "code",
   "execution_count": 2,
   "metadata": {},
   "outputs": [],
   "source": [
    "import os\n",
    "import pickle\n",
    "\n",
    "import cv2\n",
    "import numpy as np\n",
    "import pandas as pd\n",
    "import tensorflow as tf\n",
    "import matplotlib.pyplot as plt\n",
    "from keras.applications.vgg16 import VGG16, preprocess_input\n",
    "from keras.models import Model\n",
    "from tensorflow.keras.utils import load_img\n",
    "\n",
    "from PIL import Image\n",
    "from tqdm import tqdm\n",
    "\n",
    "pd.options.mode.chained_assignment = None  # default='warn'\n",
    "PATH_DF = \"../dataset/1.json\"\n",
    "PATH = \"../dataset/1/\"\n",
    "PATH_BLUR_IMAGE = \"../dataset/2/\"\n",
    "PATH_FEATURES = \"../dataset/feature.pkl\""
   ]
  },
  {
   "cell_type": "code",
   "execution_count": null,
   "metadata": {},
   "outputs": [],
   "source": [
    "def  try_convert_val(value):\n",
    "     try:\n",
    "         return value[\"jibo\"]\n",
    "     except:\n",
    "         return np.nan"
   ]
  },
  {
   "cell_type": "code",
   "execution_count": 12,
   "metadata": {},
   "outputs": [],
   "source": [
    "df = pd.read_csv(\"/home/yuxiao/nii_project/dataset/df/feature_data.csv\")"
   ]
  },
  {
   "cell_type": "code",
   "execution_count": 13,
   "metadata": {},
   "outputs": [],
   "source": [
    "df = pd.read_json(\"/home/yuxiao/nii_project/dataset/1.json\")\n",
    "df[\"char\"] = df[\"data\"].apply(lambda x: x[\"char\"])\n",
    "df[\"url\"] = df[\"data\"].apply(lambda x: \"\" + x[\"url\"][28:])\n",
    "df[\"image_file\"] = df[\"url\"].apply(lambda x: x[10:])\n",
    "df[\"jibo\"] = df[\"data\"].apply(lambda x: try_convert_val(x))\n",
    "df = df[[\"char\", \"url\", \"image_file\", \"jibo\"]]"
   ]
  },
  {
   "cell_type": "code",
   "execution_count": 40,
   "metadata": {},
   "outputs": [],
   "source": [
    "path = r\"../dataset/1\"\n",
    "# this list holds all the image filename\n",
    "chars = []\n",
    "\n",
    "# creates a ScandirIterator aliased as files\n",
    "with os.scandir(path) as files:\n",
    "    # loops through each file in the directory\n",
    "    chars.extend(\n",
    "        file.name\n",
    "        for file in files\n",
    "        if file.name.endswith(\".jpg\")\n",
    "        and file.name in df[\"image_file\"].values\n",
    "    )"
   ]
  },
  {
   "cell_type": "code",
   "execution_count": 35,
   "metadata": {},
   "outputs": [
    {
     "name": "stderr",
     "output_type": "stream",
     "text": [
      "100%|██████████| 36869/36869 [09:51<00:00, 62.32it/s]\n"
     ]
    }
   ],
   "source": [
    "for image_file in tqdm(df.image_file):\n",
    "    img = cv2.imread(PATH + image_file)\n",
    "    blue_channel, green_channel, red_channel = cv2.split(img)\n",
    "    red_channel_removed = red_channel * 0\n",
    "    img = cv2.merge((blue_channel, green_channel, red_channel_removed))\n",
    "    img = cv2.cvtColor(img, cv2.COLOR_BGR2GRAY)\n",
    "    _, dst1 = cv2.threshold(img, 0, 255, cv2.THRESH_OTSU)\n",
    "    blur = cv2.blur(dst1, (2, 2))\n",
    "    cv2.imwrite(PATH_BLUR_IMAGE + image_file, blur)"
   ]
  },
  {
   "cell_type": "code",
   "execution_count": 36,
   "metadata": {},
   "outputs": [
    {
     "name": "stderr",
     "output_type": "stream",
     "text": [
      "2023-08-16 00:29:49.577481: W tensorflow/core/common_runtime/gpu/gpu_device.cc:1956] Cannot dlopen some GPU libraries. Please make sure the missing libraries mentioned above are installed properly if you would like to use GPU. Follow the guide at https://www.tensorflow.org/install/gpu for how to download and setup the required libraries for your platform.\n",
      "Skipping registering GPU devices...\n"
     ]
    }
   ],
   "source": [
    "# load the model first and pass as an argument\n",
    "model = VGG16()\n",
    "model = Model(inputs=model.inputs, outputs=model.layers[-2].output)\n",
    "\n",
    "\n",
    "def extract_features(file, model):\n",
    "    # load the image as a 224x224 array\n",
    "    img = load_img(file, target_size=(224, 224))\n",
    "    # convert from 'PIL.Image.Image' to numpy array\n",
    "    img = np.array(img)\n",
    "    # reshape the data for the model reshape(num_of_samples, dim 1, dim 2, channels)\n",
    "    reshaped_img = img.reshape(1, 224, 224, 3)\n",
    "    # prepare image for model\n",
    "    imgx = preprocess_input(reshaped_img)\n",
    "    # get the feature vector\n",
    "    features = model.predict(imgx, use_multiprocessing=True, verbose=0)\n",
    "    return features"
   ]
  },
  {
   "cell_type": "code",
   "execution_count": 42,
   "metadata": {},
   "outputs": [
    {
     "name": "stderr",
     "output_type": "stream",
     "text": [
      "100%|██████████| 36869/36869 [1:27:30<00:00,  7.02it/s]\n"
     ]
    }
   ],
   "source": [
    "data = {}\n",
    "p = r\"../dataset/2/char_features.pkl\"\n",
    "\n",
    "# lop through each image in the dataset\n",
    "for char in tqdm(chars):\n",
    "    # try to extract the features and update the dictionary\n",
    "    try:\n",
    "        feat = extract_features(\"../dataset/2/\" + char, model)\n",
    "        data[char] = feat\n",
    "    # if something fails, save the extracted features as a pickle file (optional)\n",
    "    except:\n",
    "        with open(p, \"wb\") as file:\n",
    "            pickle.dump(data, file)\n",
    "\n",
    "# get a list of the filenames\n",
    "filenames = np.array(list(data.keys()))"
   ]
  },
  {
   "cell_type": "code",
   "execution_count": 43,
   "metadata": {},
   "outputs": [
    {
     "name": "stdout",
     "output_type": "stream",
     "text": [
      "dictionary saved successfully to file\n"
     ]
    }
   ],
   "source": [
    "with open(\"../dataset/feature_2.pkl\", \"wb\") as fp:\n",
    "    pickle.dump(data, fp)\n",
    "    print(\"dictionary saved successfully to file\")"
   ]
  }
 ],
 "metadata": {
  "kernelspec": {
   "display_name": "nii",
   "language": "python",
   "name": "python3"
  },
  "language_info": {
   "codemirror_mode": {
    "name": "ipython",
    "version": 3
   },
   "file_extension": ".py",
   "mimetype": "text/x-python",
   "name": "python",
   "nbconvert_exporter": "python",
   "pygments_lexer": "ipython3",
   "version": "3.9.16"
  },
  "orig_nbformat": 4
 },
 "nbformat": 4,
 "nbformat_minor": 2
}
